{
 "cells": [
  {
   "cell_type": "markdown",
   "metadata": {},
   "source": [
    "## 1. Import the required libraries"
   ]
  },
  {
   "cell_type": "code",
   "execution_count": null,
   "metadata": {},
   "outputs": [],
   "source": [
    "import pygsheets\n",
    "import pandas as pd\n",
    "from oauth2client.service_account import ServiceAccountCredentials\n",
    "import gspread\n",
    "import json"
   ]
  },
  {
   "cell_type": "markdown",
   "metadata": {},
   "source": [
    "## 2. Pull the Google Analytics raw data from your data source"
   ]
  },
  {
   "cell_type": "code",
   "execution_count": null,
   "metadata": {},
   "outputs": [],
   "source": [
    "#import the json file with the google credentials\n",
    "with open(\"google_credentials.json\", \"r\") as f:\n",
    "    google_credentials = json.load(f)\n",
    "\n",
    "#load the credentials in the right variable\n",
    "scope = ['https://www.googleapis.com/auth/cloud-platform', 'https://spreadsheets.google.com/feeds']\n",
    "credentials_gs = ServiceAccountCredentials.from_json_keyfile_dict(google_credentials, scope)\n",
    "gc = gspread.authorize(credentials_gs)\n",
    "\n",
    "#pull data from the right google spreadsheet and insert it into a dataframe\n",
    "spreadsheet_key = 'YOUR_SPREADSHEET_KEY'\n",
    "book = gc.open_by_key(spreadsheet_key)\n",
    "worksheet = book.worksheet(\"GA raw data\")\n",
    "table = worksheet.get_all_values()\n",
    "ga_raw_data = pd.DataFrame(table[1:], columns=table[0])"
   ]
  },
  {
   "cell_type": "markdown",
   "metadata": {},
   "source": [
    "## 3. Apply basic transformation to the raw dataframe"
   ]
  },
  {
   "cell_type": "code",
   "execution_count": null,
   "metadata": {},
   "outputs": [],
   "source": [
    "#basic transofmration on the dataframe to have the right format\n",
    "ga_raw_data = ga_raw_data.filter(items=['date', 'user_id', 'journey_id', 'utm_medium', 'submitted_applications'])\n",
    "ga_raw_data = ga_raw_data.sort_values(by=['date', 'user_id'], ascending=True)\n",
    "ga_raw_data['submitted_applications'] = ga_raw_data['submitted_applications'].astype(str).astype(int)\n",
    "ga_raw_data['date'] = pd.to_datetime(ga_raw_data['date'])\n",
    "ga_raw_data = ga_raw_data.reset_index().drop(columns=['index'])\n",
    "ga_raw_data.head()"
   ]
  },
  {
   "cell_type": "markdown",
   "metadata": {},
   "source": [
    "## 4. Loop over the raw dataframe and create the attributed dataframe"
   ]
  },
  {
   "cell_type": "code",
   "execution_count": null,
   "metadata": {
    "scrolled": true
   },
   "outputs": [],
   "source": [
    "#Setting up the empty dataframe that will be filled with the attributed conversions\n",
    "columns = ['date', 'utm_medium', 'conversions']\n",
    "attributed_conversion_df = pd.DataFrame(columns=columns)\n",
    "#looping over all the rows of the raw GA dataframe\n",
    "for index, row in ga_raw_data.iterrows():\n",
    "    #looking for rows that have at least 1 conversion\n",
    "    if row['submitted_applications'] > 0: \n",
    "        #create a dataframe with the conversion raw and all former sessions of this user\n",
    "        single_conversion_df = ga_raw_data[(ga_raw_data['date'] <= pd.to_datetime(row[\"date\"])) & (ga_raw_data['user_id'] == row[\"user_id\"])]\n",
    "        #sorting by date and number of conversion ascending\n",
    "        single_conversion_df = single_conversion_df.sort_values(by=['date', 'submitted_applications'], ascending=True) \n",
    "        #rank all the sessions in the user history (from the first one to the converssion)\n",
    "        single_conversion_df['occurences'] = single_conversion_df.groupby('user_id').cumcount() + 1 \n",
    "        #set up a variable with the total number of sessions\n",
    "        occurences = single_conversion_df.loc[(single_conversion_df['submitted_applications'] == row[\"submitted_applications\"]) & (single_conversion_df['date'] == row[\"date\"])& (single_conversion_df['utm_medium'] == row[\"utm_medium\"]), 'occurences'].iloc[0] \n",
    "        #set up a value that divides the conversion(s) by the number of session\n",
    "        conversion_per_row = single_conversion_df.loc[single_conversion_df['submitted_applications'] == row[\"submitted_applications\"], 'submitted_applications'].iloc[0]/occurences \n",
    "        #append the linear distributed conversion to each row\n",
    "        single_conversion_df['conversions'] = float(conversion_per_row)\n",
    "        #set the conversion date for each row\n",
    "        single_conversion_df['date'] = single_conversion_df.loc[(single_conversion_df['submitted_applications'] == row[\"submitted_applications\"]) & (single_conversion_df['date'] == row[\"date\"])& (single_conversion_df['utm_medium'] == row[\"utm_medium\"]), 'occurences'].iloc[0] \n",
    "        #filter the relevant columns for the attributed dataframe\n",
    "        single_conversion_df = single_conversion_df.filter(items=['date', 'utm_medium', 'conversions'])\n",
    "        #append the conversion dataframe to the main dataframe\n",
    "        attributed_conversion_df = attributed_conversion_df.append(single_conversion_df)\n",
    "\n",
    "attributed_conversion_df.head()"
   ]
  },
  {
   "cell_type": "markdown",
   "metadata": {},
   "source": [
    "## 5. Send the attributed dataframe to the data source"
   ]
  },
  {
   "cell_type": "code",
   "execution_count": null,
   "metadata": {},
   "outputs": [],
   "source": [
    "#authorization\n",
    "gc = pygsheets.authorize(service_file='google_credentials.json')\n",
    "\n",
    "#open the google spreadsheet (where 'PY to Gsheet Test' is the name of my sheet)\n",
    "sh = gc.open(\"Multi-touchpoint attribution model – Talent Acqusition\")\n",
    "\n",
    "#select the first sheet\n",
    "wks = sh[1]\n",
    "\n",
    "#update the first sheet\n",
    "wks.set_dataframe(attributed_conversion_df,(1,1))"
   ]
  }
 ],
 "metadata": {
  "kernelspec": {
   "display_name": "Python 3",
   "language": "python",
   "name": "python3"
  },
  "language_info": {
   "codemirror_mode": {
    "name": "ipython",
    "version": 3
   },
   "file_extension": ".py",
   "mimetype": "text/x-python",
   "name": "python",
   "nbconvert_exporter": "python",
   "pygments_lexer": "ipython3",
   "version": "3.7.3"
  }
 },
 "nbformat": 4,
 "nbformat_minor": 2
}
